{
 "cells": [
  {
   "cell_type": "markdown",
   "metadata": {},
   "source": [
    "# Imports"
   ]
  },
  {
   "cell_type": "code",
   "execution_count": 1,
   "metadata": {},
   "outputs": [
    {
     "name": "stdout",
     "output_type": "stream",
     "text": [
      "Using cpu\n"
     ]
    }
   ],
   "source": [
    "#import numpy as np\n",
    "#import torch\n",
    "\n",
    "# this file has everythng we need\n",
    "from democnn3d import *"
   ]
  },
  {
   "cell_type": "markdown",
   "metadata": {},
   "source": [
    "# Kalman Filter"
   ]
  },
  {
   "cell_type": "code",
   "execution_count": 99,
   "metadata": {},
   "outputs": [],
   "source": [
    "def kalman(x, u, P, z):\n",
    "    '''\n",
    "    Kalman Filter\n",
    "    x = pevious position [x,y,z]\n",
    "    u = control input to go from previous to now\n",
    "    P = previous covariance matrix\n",
    "    z = sensor measurement from now\n",
    "    '''\n",
    "    # constants\n",
    "    R =  np.array([[100**2, 0], [0, 70**2]]) # variance on noise for camera measurement\n",
    "    Q = 12**2\n",
    "    I = np.identity(3) #3x3 identity matrix\n",
    "    H = np.array([[1, 0, 0], [0, 1, 0]])\n",
    "    # Prediction\n",
    "    xhat_p = x + u\n",
    "    P_p = P + Q*I\n",
    "    # Innovations\n",
    "    inn=(z - H@xhat_p) #innovations\n",
    "    S = H@P_p@(H.transpose()) + R #innovations covariance\n",
    "    # Kalman Gain\n",
    "    K = P_p@(H.transpose())@(np.linalg.inv(S))\n",
    "    #reject measurements\n",
    "    #Lam0 = 4.6052 #90% gate\n",
    "    Lam0 = 3.2189 #80% gate\n",
    "    #Lam0 = 2.4079 #70% gate\n",
    "    #Lam0 = 1.8326 #60% gate\n",
    "    #Lam0 = 1.3863 #50% gate\n",
    "    #Lam0 = 1.0217 #40% gate\n",
    "    #Lam0 = 0.7133 #30% gate\n",
    "    #Lam0 = 0.4463 #20% gate\n",
    "    #Lam0 = 0.2107 #10% gate    \n",
    "    \n",
    "    Lam=inn.transpose()@np.linalg.inv(S)@inn;\n",
    "    if Lam>Lam0:\n",
    "        # no update (use predictions)\n",
    "        xhat_u = xhat_p\n",
    "        P_u = P_p\n",
    "        rej = 1\n",
    "    else:  \n",
    "        # Update\n",
    "        xhat_u = xhat_p + K@inn\n",
    "        P_u = (I-K@H) @ P_p @ ((I-K@H).transpose()) +K@R@(K.transpose())\n",
    "        rej = 0\n",
    "    return xhat_u, P_u, rej"
   ]
  },
  {
   "cell_type": "code",
   "execution_count": 3,
   "metadata": {},
   "outputs": [
    {
     "data": {
      "text/plain": [
       "(array([[108.19501779],\n",
       "        [113.27796807],\n",
       "        [110.        ]]),\n",
       " array([[ 6482.05209964,     0.        ,     0.        ],\n",
       "        [    0.        ,  3493.65837265,     0.        ],\n",
       "        [    0.        ,     0.        , 40144.        ]]),\n",
       " 0)"
      ]
     },
     "execution_count": 3,
     "metadata": {},
     "output_type": "execute_result"
    }
   ],
   "source": [
    "# Sanity Check for KF (veriefied to match MATLAB)\n",
    "x = np.array([[100], [100], [100]])\n",
    "u = np.array([[10], [10], [10]])\n",
    "P = np.array([[100**2,0,0],[0,100**2,0],[0,0,200**2]])\n",
    "z = np.array([[105], [115]])\n",
    "\n",
    "kalman(x, u, P, z)"
   ]
  },
  {
   "cell_type": "markdown",
   "metadata": {},
   "source": [
    "# Sensor Model"
   ]
  },
  {
   "cell_type": "code",
   "execution_count": 4,
   "metadata": {},
   "outputs": [
    {
     "data": {
      "text/plain": [
       "MnistNetwork(\n",
       "  (conv1): Conv2d(3, 64, kernel_size=(11, 6), stride=(1, 1))\n",
       "  (maxpool1): MaxPool2d(kernel_size=(2, 2), stride=(2, 2), padding=0, dilation=1, ceil_mode=False)\n",
       "  (conv2): Conv2d(64, 64, kernel_size=(6, 4), stride=(1, 1))\n",
       "  (conv2_bn): BatchNorm2d(64, eps=1e-05, momentum=0.1, affine=True, track_running_stats=True)\n",
       "  (maxpool2): MaxPool2d(kernel_size=(3, 3), stride=(3, 3), padding=0, dilation=1, ceil_mode=False)\n",
       "  (dense1): Linear(in_features=36480, out_features=128, bias=True)\n",
       "  (dense1_bn): BatchNorm1d(128, eps=1e-05, momentum=0.1, affine=True, track_running_stats=True)\n",
       "  (dense2): Linear(in_features=128, out_features=2, bias=True)\n",
       ")"
      ]
     },
     "execution_count": 4,
     "metadata": {},
     "output_type": "execute_result"
    }
   ],
   "source": [
    "# CNN\n",
    "sensor_model = MnistNetwork()\n",
    "sensor_model.load_state_dict(torch.load('cnn3d.pt',map_location=torch.device('cpu')))\n",
    "sensor_model.eval()"
   ]
  },
  {
   "cell_type": "markdown",
   "metadata": {},
   "source": [
    "# Collect/Organize Data"
   ]
  },
  {
   "cell_type": "code",
   "execution_count": 5,
   "metadata": {},
   "outputs": [],
   "source": [
    "def overheadcam2arm(x, y):\n",
    "    # converts location in overhead camera frame in pixels to locaiton of wrist in robot frame in mm\n",
    "    pix2mm = 1.4 #[mm/pixel]\n",
    "    #arm_origin = (309, 425) #arm origin in overhead camera frame [pixels]\n",
    "    arm_origin = (309-1.708, 425+57.787) # with correction factors found heuristically\n",
    "    #fiducial location in arm frame [pixels]\n",
    "    fid_x = x-arm_origin[0]\n",
    "    fid_y = arm_origin[1]-y\n",
    "    fid_mag = np.sqrt(fid_x**2+fid_y**2) # magnitude of location vector\n",
    "    #wrist loction in arm frame [pixels]\n",
    "    theta = np.arctan2(fid_y, fid_x)\n",
    "    wrist_x = (fid_mag-38/pix2mm)*np.cos(theta)\n",
    "    wrist_y = (fid_mag-38/pix2mm)*np.sin(theta)\n",
    "    return np.array([[wrist_x*pix2mm], [wrist_y*pix2mm]]) # wrist location in arm frame [mm]\n",
    "\n",
    "def det_ind2ctr_ind(det_ind):\n",
    "    # converts detection index to control index\n",
    "    # required since images were sorted by the filenames instead of numerically\n",
    "    indices = [str(t) for t in range(4015)]\n",
    "    indices.sort()\n",
    "    ctr_ind = int(indices[det_ind])-4 #first 4 images don't correspond to any control inputs for some reason\n",
    "    if ctr_ind<0:\n",
    "        return 0\n",
    "    else:\n",
    "        return ctr_ind\n",
    "\n",
    "# test\n",
    "# overheadcam2arm(185.677, 385.52) \n",
    "# det_ind2ctr_ind(0)"
   ]
  },
  {
   "cell_type": "code",
   "execution_count": 6,
   "metadata": {},
   "outputs": [],
   "source": [
    "#load data\n",
    "\n",
    "# first 64 points ate test data\n",
    "\n",
    "detection_ind = np.load('detection_indices.npy') # Indices where there were detections\n",
    "control_data = np.loadtxt('control_data.txt', delimiter=', ') # step, t, x, y, z\n",
    "locs = np.load('locs.npy') # True locations from overhead cam\n",
    "armpics = np.load('armpicscolor.npy')# Pictures from arm cam"
   ]
  },
  {
   "cell_type": "code",
   "execution_count": 8,
   "metadata": {},
   "outputs": [],
   "source": [
    "#find control inputs\n",
    "det_pos = np.zeros((len(detection_ind)+1, 3)) #detected positions\n",
    "det_pos[0] = [0, 150, 150]\n",
    "\n",
    "i = 1\n",
    "for ind in detection_ind:\n",
    "    c_ind = det_ind2ctr_ind(ind)\n",
    "    det_pos[i] = [control_data[c_ind, 2], control_data[c_ind, 3], control_data[c_ind, 4]]\n",
    "    i+=1\n",
    "\n",
    "u = np.zeros((3, len(detection_ind))) # relative control inputs\n",
    "\n",
    "for i in range(len(detection_ind)):\n",
    "    u[0,[i]] = det_pos[i+1,0] - det_pos[i,0]\n",
    "    u[1,[i]] = det_pos[i+1,1] - det_pos[i,1]\n",
    "    u[2,[i]] = det_pos[i+1,2] - det_pos[i,2]\n",
    "    \n",
    "#create arrays for measurements and true positioins where columns are each timestep\n",
    "z = np.zeros((2, len(detection_ind)))  #measurements\n",
    "x_true = np.zeros((3, len(detection_ind))) #true positions\n",
    "for i in range(len(detection_ind)):\n",
    "    cam_bel = sensor_model(torch.Tensor(armpics[i])).cpu().detach().numpy() #camera belief of x-y location in camera frame [pixels]\n",
    "    z[:,[i]] = overheadcam2arm(cam_bel[0,0], cam_bel[0,1])\n",
    "    \n",
    "    x_true[0:2,[i]] = overheadcam2arm(locs[i,0], locs[i,1])\n",
    "    x_true[2,[i]] = 200"
   ]
  },
  {
   "cell_type": "markdown",
   "metadata": {},
   "source": [
    "# Put it All Together Now"
   ]
  },
  {
   "cell_type": "code",
   "execution_count": 9,
   "metadata": {},
   "outputs": [
    {
     "name": "stdout",
     "output_type": "stream",
     "text": [
      "[-143.  113.  200.]\n",
      "[-140.46201116  112.50205922  200.        ]\n",
      "[-65.65039051 267.5268792 ]\n"
     ]
    }
   ],
   "source": [
    "# check how well things line up for 1 index\n",
    "i = 0\n",
    "print(det_pos[i+1]) #command input\n",
    "#print(locs[i])      #overhead location\n",
    "print(x_true[:,i])  #overhead converted to arm frame\n",
    "print(z[:,i])"
   ]
  },
  {
   "cell_type": "code",
   "execution_count": 19,
   "metadata": {},
   "outputs": [
    {
     "name": "stdout",
     "output_type": "stream",
     "text": [
      "x correction (pixels): 0.7616861326950625\n",
      "y correction (pixels): 0.10881095792304668\n"
     ]
    }
   ],
   "source": [
    "# estimate error in overhead to robot frame to tune origin defined in transormation funciton\n",
    "\n",
    "num = len(detection_ind)\n",
    "OH_error_x = np.zeros(num)\n",
    "OH_error_y = np.zeros(num)\n",
    "\n",
    "for i in range(num):\n",
    "    OH_error_x[i] = det_pos[[i+1],0] - x_true[0,[i]]\n",
    "    OH_error_y[i] = det_pos[[i+1],1] - x_true[1,[i]]\n",
    "\n",
    "av_x = np.average(OH_error_x)\n",
    "av_y = np.average(OH_error_y)\n",
    "\n",
    "print('x correction (pixels): {}'.format(av_x/1.4))\n",
    "print('y correction (pixels): {}'.format(av_y/1.4))"
   ]
  },
  {
   "cell_type": "code",
   "execution_count": 11,
   "metadata": {},
   "outputs": [
    {
     "name": "stdout",
     "output_type": "stream",
     "text": [
      "TEST DATA\n",
      "standard deviation of x error: 137.56079745407894\n",
      "standard deviation of y error: 76.43298384270882\n",
      "\n",
      "TEST DATA\n",
      "standard deviation of x error: 33.2404517336925\n",
      "standard deviation of y error: 24.323638333976184\n"
     ]
    }
   ],
   "source": [
    "# error in CNN predictions\n",
    "\n",
    "file1 = open('Test_error.txt', 'w')\n",
    "file2 = open('Train_error.txt', 'w')\n",
    "\n",
    "# test data\n",
    "print('TEST DATA')\n",
    "cam_error_x = np.zeros(64)\n",
    "cam_error_y = np.zeros(64)\n",
    "\n",
    "for i in range(64):\n",
    "    cam_error_x[i] = z[0,[i]] - x_true[0,[i]]\n",
    "    cam_error_y[i] = z[1,[i]] - x_true[1,[i]]\n",
    "    file1.write(\"{}, {}\\n\".format(cam_error_x[i], cam_error_y[i]))\n",
    "\n",
    "mag_error_x = np.average(np.absolute(cam_error_x)) # average magnitude of x error\n",
    "sigma_x = np.std(cam_error_x)\n",
    "mag_error_y = np.average(np.absolute(cam_error_y)) # average magnitude of y error\n",
    "sigma_y = np.std(cam_error_y)\n",
    "print('standard deviation of x error: {}'.format(sigma_x))\n",
    "print('standard deviation of y error: {}'.format(sigma_y))\n",
    "\n",
    "file1.close()\n",
    "\n",
    "\n",
    "#test data\n",
    "num = len(detection_ind)-64\n",
    "print('\\nTEST DATA')\n",
    "cam_error_x = np.zeros(num)\n",
    "cam_error_y = np.zeros(num)\n",
    "\n",
    "for i in range(num):\n",
    "    cam_error_x[i] = z[0,[i+64]] - x_true[0,[i+64]]\n",
    "    cam_error_y[i] = z[1,[i+64]] - x_true[1,[i+64]]\n",
    "    file2.write(\"{}, {}\\n\".format(cam_error_x[i], cam_error_y[i]))\n",
    "\n",
    "sigma_x = np.std(cam_error_x)\n",
    "sigma_y = np.std(cam_error_y)\n",
    "print('standard deviation of x error: {}'.format(sigma_x))\n",
    "print('standard deviation of y error: {}'.format(sigma_y))\n",
    "\n",
    "file2.close()"
   ]
  },
  {
   "cell_type": "markdown",
   "metadata": {},
   "source": [
    "# Filter Simulaiton"
   ]
  },
  {
   "cell_type": "code",
   "execution_count": 100,
   "metadata": {},
   "outputs": [
    {
     "name": "stdout",
     "output_type": "stream",
     "text": [
      "1\n",
      "-16.929692435257582\n",
      "19.16326677912734\n",
      "19.027650117869076\n",
      "14.741529455584605\n"
     ]
    },
    {
     "data": {
      "image/png": "[encoded data removed]",
      "text/plain": [
       "<Figure size 432x288 with 1 Axes>"
      ]
     },
     "metadata": {
      "needs_background": "light"
     },
     "output_type": "display_data"
    },
    {
     "data": {
      "image/png": "[encoded data removed]",
      "text/plain": [
       "<Figure size 432x288 with 1 Axes>"
      ]
     },
     "metadata": {
      "needs_background": "light"
     },
     "output_type": "display_data"
    }
   ],
   "source": [
    "n_steps = 2963 #numer of timesteps to run the filter over\n",
    "start_index = 64\n",
    "\n",
    "# Initialize\n",
    "x0 = np.array([[0], [150], [150]])\n",
    "P0 = np.array([[200**2,0,0],[0,200**2,0],[0,0,200**2]])\n",
    "\n",
    "x_est = np.zeros((3, n_steps))\n",
    "x_est[:,[0]] = x0\n",
    "P = np.zeros((3,3,n_steps))\n",
    "P[:,:,0] = P0\n",
    "rejections = 0\n",
    "\n",
    "x_error = np.zeros((1, n_steps))\n",
    "x_sigma = np.zeros((1, n_steps))\n",
    "y_error = np.zeros((1, n_steps))\n",
    "y_sigma = np.zeros((1, n_steps))\n",
    "\n",
    "\n",
    "for i in np.arange(0,n_steps-1):\n",
    "    ind = i+start_index\n",
    "    \n",
    "    (x_est[:,[i+1]], P[:,:,i+1], rej) = kalman(x_est[:,[i]], u[:,[ind]], P[:,:,i], z[:,[ind]])\n",
    "    rejections += rej\n",
    "    \n",
    "    x_error[:,[i]] = x_est[0,[i+1]] - x_true[0,ind]#det_pos[ind+1,0]\n",
    "    x_sigma[:,[i]] = np.sqrt(P[0,0,i+1])\n",
    "    y_error[:,[i]] = x_est[1,[i+1]] - x_true[1,ind]#det_pos[ind+1,1]\n",
    "    y_sigma[:,[i]] = np.sqrt(P[1,1,i+1])\n",
    "\n",
    "# plot\n",
    "t = np.arange(0,n_steps)\n",
    "\n",
    "plt.figure(1)\n",
    "plt.plot(t, x_error.transpose(),label='error')\n",
    "plt.plot(t,2*x_sigma.transpose(),'r', label='2σ bounds')\n",
    "plt.plot(t,-2*x_sigma.transpose(),'r')\n",
    "#axs[0].set_xlim(0, 2)\n",
    "plt.xlabel('time step')\n",
    "plt.ylabel('x error (mm)')\n",
    "plt.legend(loc='upper right')\n",
    "plt.xlim(0,n_steps-2)\n",
    "plt.grid()\n",
    "\n",
    "\n",
    "plt.figure(2)\n",
    "plt.plot(t, y_error.transpose(),label='error')\n",
    "plt.plot(t,2*y_sigma.transpose(),'r', label='2σ bounds')\n",
    "plt.plot(t,-2*y_sigma.transpose(),'r')\n",
    "plt.legend(loc='upper right')\n",
    "plt.xlabel('time step')\n",
    "plt.ylabel('y error (mm)')\n",
    "plt.xlim(0,n_steps-2)\n",
    "plt.grid()\n",
    "\n",
    "\n",
    "\n",
    "print(rejections)\n",
    "print(np.average(x_error))\n",
    "print(np.std(x_error))\n",
    "print(np.average(y_error))\n",
    "print(np.std(y_error))"
   ]
  }
 ],
 "metadata": {
  "kernelspec": {
   "display_name": "Python 3",
   "language": "python",
   "name": "python3"
  },
  "language_info": {
   "codemirror_mode": {
    "name": "ipython",
    "version": 3
   },
   "file_extension": ".py",
   "mimetype": "text/x-python",
   "name": "python",
   "nbconvert_exporter": "python",
   "pygments_lexer": "ipython3",
   "version": "3.8.6"
  }
 },
 "nbformat": 4,
 "nbformat_minor": 4
}
